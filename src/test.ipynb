{
 "cells": [
  {
   "cell_type": "markdown",
   "metadata": {},
   "source": [
    "# Importing libraries and Model"
   ]
  },
  {
   "cell_type": "code",
   "execution_count": 18,
   "metadata": {},
   "outputs": [],
   "source": [
    "import os, csv\n",
    "from fastai.vision.all import *\n",
    "from PIL import Image\n",
    "import tkinter as tk\n",
    "from tkinter import filedialog\n",
    "from PIL import Image, ImageWin\n",
    "from IPython.display import display, Image, HTML"
   ]
  },
  {
   "cell_type": "code",
   "execution_count": 25,
   "metadata": {},
   "outputs": [],
   "source": [
<<<<<<< Updated upstream
    "path = Path('insectaCamModel.pkl')\n",
    "learn = load_learner(path)"
=======
    "path = Path('models/insectaCamModel.pkl')\n",
    "learn = load_learner(path)  "
>>>>>>> Stashed changes
   ]
  },
  {
   "cell_type": "markdown",
   "metadata": {},
   "source": [
    "# With single file"
   ]
  },
  {
   "cell_type": "code",
   "execution_count": 11,
   "metadata": {},
   "outputs": [],
   "source": [
    "import easygui\n",
    "path = easygui.fileopenbox(msg=\"Choose file\", title=\"InsectaCam\",  filetypes = [\"*.png\", \"*.jpg\"], multiple=True, default=\"\\\\*.png\")"
   ]
  },
  {
   "cell_type": "code",
   "execution_count": 15,
   "metadata": {},
   "outputs": [
    {
     "name": "stdout",
     "output_type": "stream",
     "text": [
      "File selected: ['C:\\\\Users\\\\menga\\\\Desktop\\\\Annunci subito\\\\IMG_5774.jpg']\n",
      "Errore durante l'ottenimento della cartella: name 'os' is not defined\n",
      "Parent folder: None\n",
      "Error: name 'Image' is not defined\n"
     ]
    },
    {
     "ename": "NameError",
     "evalue": "name 'learn' is not defined",
     "output_type": "error",
     "traceback": [
      "\u001b[1;31m---------------------------------------------------------------------------\u001b[0m",
      "\u001b[1;31mNameError\u001b[0m                                 Traceback (most recent call last)",
      "Cell \u001b[1;32mIn[15], line 36\u001b[0m\n\u001b[0;32m     33\u001b[0m     \u001b[38;5;28mprint\u001b[39m(\u001b[38;5;124m\"\u001b[39m\u001b[38;5;130;01m\\n\u001b[39;00m\u001b[38;5;130;01m\\n\u001b[39;00m\u001b[38;5;130;01m\\n\u001b[39;00m\u001b[38;5;130;01m\\n\u001b[39;00m\u001b[38;5;124m\"\u001b[39m)\n\u001b[0;32m     35\u001b[0m \u001b[38;5;28;01mwhile\u001b[39;00m \u001b[38;5;28;01mTrue\u001b[39;00m:\n\u001b[1;32m---> 36\u001b[0m     \u001b[43mchoose_file\u001b[49m\u001b[43m(\u001b[49m\u001b[43m)\u001b[49m\n",
      "Cell \u001b[1;32mIn[15], line 3\u001b[0m, in \u001b[0;36mchoose_file\u001b[1;34m()\u001b[0m\n\u001b[0;32m      1\u001b[0m \u001b[38;5;28;01mdef\u001b[39;00m \u001b[38;5;21mchoose_file\u001b[39m():\n\u001b[0;32m      2\u001b[0m     file_path \u001b[38;5;241m=\u001b[39m easygui\u001b[38;5;241m.\u001b[39mfileopenbox(msg\u001b[38;5;241m=\u001b[39m\u001b[38;5;124m\"\u001b[39m\u001b[38;5;124mChoose file\u001b[39m\u001b[38;5;124m\"\u001b[39m, title\u001b[38;5;241m=\u001b[39m\u001b[38;5;124m\"\u001b[39m\u001b[38;5;124mInsectaCam\u001b[39m\u001b[38;5;124m\"\u001b[39m,  filetypes \u001b[38;5;241m=\u001b[39m [\u001b[38;5;124m\"\u001b[39m\u001b[38;5;124m*.png\u001b[39m\u001b[38;5;124m\"\u001b[39m, \u001b[38;5;124m\"\u001b[39m\u001b[38;5;124m*.jpg\u001b[39m\u001b[38;5;124m\"\u001b[39m], multiple\u001b[38;5;241m=\u001b[39m\u001b[38;5;28;01mTrue\u001b[39;00m, default\u001b[38;5;241m=\u001b[39m\u001b[38;5;124m\"\u001b[39m\u001b[38;5;130;01m\\\\\u001b[39;00m\u001b[38;5;124m*.png\u001b[39m\u001b[38;5;124m\"\u001b[39m)\n\u001b[1;32m----> 3\u001b[0m     \u001b[43mprocess_file\u001b[49m\u001b[43m(\u001b[49m\u001b[43mfile_path\u001b[49m\u001b[43m)\u001b[49m\n",
      "Cell \u001b[1;32mIn[15], line 27\u001b[0m, in \u001b[0;36mprocess_file\u001b[1;34m(file_path)\u001b[0m\n\u001b[0;32m     25\u001b[0m \u001b[38;5;28mprint\u001b[39m(\u001b[38;5;124m\"\u001b[39m\u001b[38;5;124mParent folder:\u001b[39m\u001b[38;5;124m\"\u001b[39m, parent_folder(file_path))\n\u001b[0;32m     26\u001b[0m print_image(file_path)\n\u001b[1;32m---> 27\u001b[0m is_mosquito, _, probs \u001b[38;5;241m=\u001b[39m \u001b[43mlearn\u001b[49m\u001b[38;5;241m.\u001b[39mpredict(\n\u001b[0;32m     28\u001b[0m     PILImage\u001b[38;5;241m.\u001b[39mcreate(file_path))  \u001b[38;5;66;03m# Esegui la previsione\u001b[39;00m\n\u001b[0;32m     29\u001b[0m \u001b[38;5;66;03m# Stampa le probabilità per ogni classe\u001b[39;00m\n\u001b[0;32m     30\u001b[0m \u001b[38;5;28mprint\u001b[39m(\u001b[38;5;124mf\u001b[39m\u001b[38;5;124m\"\u001b[39m\u001b[38;5;124mProbability for Lucila: \u001b[39m\u001b[38;5;132;01m{\u001b[39;00mprobs[\u001b[38;5;241m0\u001b[39m]\u001b[38;5;132;01m:\u001b[39;00m\u001b[38;5;124m.4f\u001b[39m\u001b[38;5;132;01m}\u001b[39;00m\u001b[38;5;124m\"\u001b[39m)\n",
      "\u001b[1;31mNameError\u001b[0m: name 'learn' is not defined"
     ]
    }
   ],
   "source": [
    "def choose_file():\n",
    "    file_path = easygui.fileopenbox(msg=\"Choose file\", title=\"InsectaCam\",  filetypes = [\"*.png\", \"*.jpg\"], multiple=True, default=\"\\\\*.png\")\n",
    "    process_file(file_path)\n",
    "\n",
    "\n",
    "def print_image(file_path):\n",
    "    try:\n",
    "        # Visualizza l'immagine\n",
    "        display(Image(filename=file_path))\n",
    "    except Exception as e:\n",
    "        print(f\"Error: {e}\")\n",
    "\n",
    "\n",
    "def parent_folder(file_path):\n",
    "    try:\n",
    "        folder = os.path.basename(os.path.dirname(file_path))\n",
    "        return folder\n",
    "    except Exception as e:\n",
    "        print(f\"Errore durante l'ottenimento della cartella: {e}\")\n",
    "        return None\n",
    "\n",
    "\n",
    "def process_file(file_path):\n",
    "    print(\"File selected:\", file_path)\n",
    "    print(\"Parent folder:\", parent_folder(file_path))\n",
    "    print_image(file_path)\n",
    "    is_mosquito, _, probs = learn.predict(\n",
    "        PILImage.create(file_path))  # Esegui la previsione\n",
    "    # Stampa le probabilità per ogni classe\n",
    "    print(f\"Probability for Lucila: {probs[0]:.4f}\")\n",
    "    print(f\"Probability for Mosca Domestica: {probs[1]:.4f}\")\n",
    "    print(f\"Probability for Piofila: {probs[2]:.4f}\")\n",
    "    print(\"\\n\\n\\n\\n\")\n",
    "    \n",
    "while True:\n",
    "    choose_file()"
   ]
  },
  {
   "cell_type": "markdown",
   "metadata": {},
   "source": [
    "# Generation csv for all file in a dataset for test"
   ]
  },
  {
   "cell_type": "code",
   "execution_count": null,
   "metadata": {},
   "outputs": [],
   "source": [
    "source_folder = filedialog.askdirectory(title=\"Source folder\")\n",
    "\n",
    "for root, dirs, files in os.walk(source_folder):\n",
    "    for file in files:\n",
    "        if file.endswith(\".png\"):\n",
    "            file_path = os.path.join(root, file).replace(\"\\\\\", \"/\")\n",
    "            process_file(file_path)\n",
    "\n",
    "\n",
    "def print_image(file_path):\n",
    "    try:\n",
    "        # Visualizza l'immagine\n",
    "        display(Image(filename=file_path))\n",
    "    except Exception as e:\n",
    "        print(f\"Error: {e}\")\n",
    "\n",
    "\n",
    "def parent_folder(file_path):\n",
    "    try:\n",
    "        folder = os.path.basename(os.path.dirname(file_path))\n",
    "        return folder\n",
    "    except Exception as e:\n",
    "        print(f\"Errore durante l'ottenimento della cartella: {e}\")\n",
    "        return None\n",
    "\n",
    "\n",
    "def process_file(file_path, csv_writer):\n",
    "    print(\"File selected:\", file_path)\n",
    "    print(\"Parent folder:\", parent_folder(file_path))\n",
    "    #print_image(file_path)\n",
    "    is_mosquito, _, probs = learn.predict(\n",
    "        PILImage.create(file_path))  # Esegui la previsione\n",
    "    # Stampa le probabilità per ogni classe\n",
    "    print(f\"Probability for Lucila: {probs[0]:.4f}\")\n",
    "    print(f\"Probability for Mosca Domestica: {probs[1]:.4f}\")\n",
    "    print(f\"Probability for Piofila: {probs[2]:.4f}\")\n",
    "    print(\"\\n\\n\\n\\n\")\n",
    "\n",
    "    # Scrivi i dati nel file CSV\n",
    "    csv_writer.writerow({\n",
    "        \"File selected\": file_path,\n",
    "        \"Parent folder\": parent_folder(file_path),\n",
    "        \"Probability for Lucila\": f\"{probs[0]:.4f}\",\n",
    "        \"Probability for Mosca Domestica\": f\"{probs[1]:.4f}\",\n",
    "        \"Probability for Piofila\": f\"{probs[2]:.4f}\"\n",
    "    })\n",
    "\n",
    "\n",
    "# Apri il file CSV in modalità di scrittura\n",
    "csv_file_path = \"/csv/output.csv\"\n",
    "with open(csv_file_path, mode=\"w\", newline=\"\", encoding=\"utf-8\") as csv_file:\n",
    "    # Definisci gli header del CSV\n",
    "    fieldnames = [\n",
    "        \"File selected\", \"Parent folder\",\n",
    "        \"Probability for Lucila\", \"Probability for Mosca Domestica\", \"Probability for Piofila\"\n",
    "    ]\n",
    "\n",
    "    # Crea l'oggetto scrittore CSV\n",
    "    csv_writer = csv.DictWriter(csv_file, fieldnames=fieldnames)\n",
    "\n",
    "    # Scrivi gli header nel file CSV\n",
    "    csv_writer.writeheader()\n",
    "\n",
    "    # Esegui il processo per ciascun file\n",
    "    for root, dirs, files in os.walk(source_folder):\n",
    "        for file in files:\n",
    "            if file.endswith(\".png\"):\n",
    "                file_path = os.path.join(root, file).replace(\"\\\\\", \"/\")\n",
    "                process_file(file_path, csv_writer)\n",
    "\n",
    "print(\"Scrittura completata. Il file CSV è stato salvato in:\", csv_file_path)"
   ]
  }
 ],
 "metadata": {
  "kernelspec": {
   "display_name": "Python 3",
   "language": "python",
   "name": "python3"
  },
  "language_info": {
   "codemirror_mode": {
    "name": "ipython",
    "version": 3
   },
   "file_extension": ".py",
   "mimetype": "text/x-python",
   "name": "python",
   "nbconvert_exporter": "python",
   "pygments_lexer": "ipython3",
   "version": "3.10.11"
  }
 },
 "nbformat": 4,
 "nbformat_minor": 2
}
