{
 "cells": [
  {
   "cell_type": "code",
   "execution_count": 13,
   "metadata": {},
   "outputs": [],
   "source": [
    "import os\n",
    "import csv\n",
    "import tkinter as tk\n",
    "from tkinter import filedialog\n",
    "from tkinter import Tk, Canvas, Entry, Text, Button, PhotoImage\n",
    "from PIL import Image as PilImage, ImageTk\n",
    "from IPython.display import display, Image as IPImage, HTML\n",
    "import easygui\n",
    "from pathlib import Path\n",
    "from fastai.vision.all import *\n",
    "import getpass"
   ]
  },
  {
   "cell_type": "code",
   "execution_count": 15,
   "metadata": {},
   "outputs": [
    {
     "data": {
      "text/html": [
       "\n",
       "<style>\n",
       "    /* Turns off some styling */\n",
       "    progress {\n",
       "        /* gets rid of default border in Firefox and Opera. */\n",
       "        border: none;\n",
       "        /* Needs to be in here for Safari polyfill so background images work as expected. */\n",
       "        background-size: auto;\n",
       "    }\n",
       "    progress:not([value]), progress:not([value])::-webkit-progress-bar {\n",
       "        background: repeating-linear-gradient(45deg, #7e7e7e, #7e7e7e 10px, #5c5c5c 10px, #5c5c5c 20px);\n",
       "    }\n",
       "    .progress-bar-interrupted, .progress-bar-interrupted::-webkit-progress-bar {\n",
       "        background: #F44336;\n",
       "    }\n",
       "</style>\n"
      ],
      "text/plain": [
       "<IPython.core.display.HTML object>"
      ]
     },
     "metadata": {},
     "output_type": "display_data"
    },
    {
     "data": {
      "text/html": [],
      "text/plain": [
       "<IPython.core.display.HTML object>"
      ]
     },
     "metadata": {},
     "output_type": "display_data"
    },
    {
     "name": "stdout",
     "output_type": "stream",
     "text": [
      "tensor([9.9999e-01, 1.0947e-05, 1.0358e-09])\n"
     ]
    }
   ],
   "source": [
    "learn = load_learner(\n",
    "    ('C:/Users/menga/Documents/Code/InsectaCam/src/model/insectaCamModel.pkl'))\n",
    "\n",
    "\n",
    "def file_dialog():\n",
    "    path = easygui.fileopenbox(msg=\"Choose file\", title=\"InsectaCam\",  filetypes=[\n",
    "                               \"*.png\", \"*.jpg\"], multiple=False, default=\"//*.png\")\n",
    "    # Aggiungi questa linea per utilizzare il percorso del file selezionato\n",
    "    process_file(path)\n",
    "\n",
    "\n",
    "def generate_csv(file_path, probs, start_time, end_time, csv_file_path=\"output_data.csv\"):\n",
    "    \"\"\"\n",
    "    Generate a CSV file with given file path, probabilities, start time, end time, and optional CSV file path.\n",
    "\n",
    "    Parameters:\n",
    "        file_path (str): The selected file path.\n",
    "        probs (list): List of probabilities.\n",
    "        start_time (datetime): The start time of script execution.\n",
    "        end_time (datetime): The end time of script execution.\n",
    "        csv_file_path (str, optional): The path to the CSV file. Default is \"output_data.csv\".\n",
    "    \"\"\"\n",
    "    # Get the current user name\n",
    "    user_name = getpass.getuser()\n",
    "\n",
    "    # Define the header for the CSV\n",
    "    fieldnames = [\n",
    "        \"File selected\",\n",
    "        \"Probability for Lucila\", \"Probability for Mosca Domestica\", \"Probability for Piofila\",\n",
    "        \"User Name\", \"Start Time\", \"End Time\"\n",
    "    ]\n",
    "\n",
    "    # Write data to the CSV file\n",
    "    with open(csv_file_path, mode=\"w\", newline=\"\", encoding=\"utf-8\") as csv_file:\n",
    "        # Initialize the CSV writer\n",
    "        csv_writer = csv.DictWriter(csv_file, fieldnames=fieldnames)\n",
    "\n",
    "        # Write the header\n",
    "        csv_writer.writeheader()\n",
    "\n",
    "        # Write the data for the current file path\n",
    "        csv_writer.writerow({\n",
    "            \"File selected\": file_path,\n",
    "            \"Probability for Lucila\": f\"{probs[0]:.4f}\",\n",
    "            \"Probability for Mosca Domestica\": f\"{probs[1]:.4f}\",\n",
    "            \"Probability for Piofila\": f\"{probs[2]:.4f}\",\n",
    "            \"User Name\": user_name,\n",
    "            \"Start Time\": start_time.strftime(\"%Y-%m-%d %H:%M:%S.%f\")[:-3],\n",
    "            \"End Time\": end_time.strftime(\"%Y-%m-%d %H:%M:%S.%f\")[:-3]\n",
    "        })\n",
    "\n",
    "\n",
    "def process_file(file_path):\n",
    "    start_time = datetime.now()\n",
    "    _, _, probs = learn.predict(PILImage.create(\n",
    "        file_path))  # Esegui la previsione\n",
    "    print(probs)\n",
    "    # Stampa le probabilità per ogni classe\n",
    "    end_time = datetime.now()\n",
    "    generate_csv(file_path, probs, start_time, end_time)\n",
    "    # canvas.itemconfig(tagOrId=lsPercentage, text=f\"{100*probs[0]:.1f}%\")\n",
    "    # canvas.itemconfig(tagOrId=mdPercentage, text=f\"{100*probs[1]:.1f}%\")\n",
    "    # canvas.itemconfig(tagOrId=pcPercentage, text=f\"{100*probs[2]:.1f}%\")\n",
    "\n",
    "\n",
    "file_dialog()"
   ]
  },
  {
   "cell_type": "code",
   "execution_count": 11,
   "metadata": {},
   "outputs": [],
   "source": [
    "import csv\n",
    "\n",
    "def generate_csv(file_path, probs):\n",
    "    csv_file_path = \"output_data.csv\"\n",
    "    \n",
    "    # Apri il file CSV in modalità di scrittura\n",
    "    with open(csv_file_path, mode=\"w\", newline=\"\", encoding=\"utf-8\") as csv_file:\n",
    "        # Definisci gli header del CSV\n",
    "        fieldnames = [\n",
    "            \"File selected\",\n",
    "            \"Probability for Lucila\", \"Probability for Mosca Domestica\", \"Probability for Piofila\"\n",
    "        ]\n",
    "\n",
    "        # Inizializza il writer CSV\n",
    "        csv_writer = csv.DictWriter(csv_file, fieldnames=fieldnames)\n",
    "        \n",
    "        # Scrivi l'intestazione\n",
    "        csv_writer.writeheader()\n",
    "        \n",
    "        # Scrivi i dati per il file path corrente\n",
    "        csv_writer.writerow({\n",
    "            \"File selected\": file_path,\n",
    "            \"Probability for Lucila\": f\"{probs[0]:.4f}\",\n",
    "            \"Probability for Mosca Domestica\": f\"{probs[1]:.4f}\",\n",
    "            \"Probability for Piofila\": f\"{probs[2]:.4f}\"\n",
    "        })\n",
    "\n",
    "# Esempio di utilizzo della funzione\n",
    "file_path = 'path/della/foto.jpg'  # Sostituisci con il tuo percorso reale\n",
    "probs = [0.75, 0.2, 0.05]  # Sostituisci con le tue probabilità reali\n",
    "\n",
    "generate_csv(file_path, probs)"
   ]
  }
 ],
 "metadata": {
  "kernelspec": {
   "display_name": "Python 3",
   "language": "python",
   "name": "python3"
  },
  "language_info": {
   "codemirror_mode": {
    "name": "ipython",
    "version": 3
   },
   "file_extension": ".py",
   "mimetype": "text/x-python",
   "name": "python",
   "nbconvert_exporter": "python",
   "pygments_lexer": "ipython3",
   "version": "3.10.11"
  }
 },
 "nbformat": 4,
 "nbformat_minor": 2
}
