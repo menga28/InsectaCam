{
 "cells": [
  {
   "cell_type": "code",
   "execution_count": 1,
   "metadata": {},
   "outputs": [],
   "source": [
    "from fastai.vision.all import *\n",
    "from tkinter import filedialog\n",
    "from time import sleep\n",
    "from PIL import Image"
   ]
  },
  {
   "cell_type": "code",
   "execution_count": 5,
   "metadata": {},
   "outputs": [
    {
     "name": "stdout",
     "output_type": "stream",
     "text": [
      "source folder:  H:/Il mio Drive/Personal/University/Master's/Complex System Desygn/InsectaCam/datasets/training/internet destination folder:  H:/Il mio Drive/Personal/University/Master's/Complex System Desygn/InsectaCam/datasets/testing/test-mondo-novo\n"
     ]
    }
   ],
   "source": [
    "source_folder = filedialog.askdirectory(title=\"Source folder\")\n",
    "destination_folder = filedialog.askdirectory(title=\"Destination folder\")\n",
    "print(\"source folder: \", source_folder, \"destination folder: \", destination_folder)"
   ]
  },
  {
   "cell_type": "code",
   "execution_count": 7,
   "metadata": {},
   "outputs": [
    {
     "name": "stdout",
     "output_type": "stream",
     "text": [
      "Spostato 64.jpg in H:/Il mio Drive/Personal/University/Master's/Complex System Desygn/InsectaCam/datasets/testing/test-mondo-novo\\Piophilidae\n",
      "Spostato 57.jpg in H:/Il mio Drive/Personal/University/Master's/Complex System Desygn/InsectaCam/datasets/testing/test-mondo-novo\\Piophilidae\n",
      "Spostato 81.jpg in H:/Il mio Drive/Personal/University/Master's/Complex System Desygn/InsectaCam/datasets/testing/test-mondo-novo\\Piophilidae\n",
      "Spostato 31.jpg in H:/Il mio Drive/Personal/University/Master's/Complex System Desygn/InsectaCam/datasets/testing/test-mondo-novo\\Piophilidae\n",
      "Spostato 39.jpg in H:/Il mio Drive/Personal/University/Master's/Complex System Desygn/InsectaCam/datasets/testing/test-mondo-novo\\Piophilidae\n",
      "Spostato 29.jpg in H:/Il mio Drive/Personal/University/Master's/Complex System Desygn/InsectaCam/datasets/testing/test-mondo-novo\\Piophilidae\n",
      "Spostato 3.jpg in H:/Il mio Drive/Personal/University/Master's/Complex System Desygn/InsectaCam/datasets/testing/test-mondo-novo\\Piophilidae\n",
      "Spostato piophilidae_4.jpg in H:/Il mio Drive/Personal/University/Master's/Complex System Desygn/InsectaCam/datasets/testing/test-mondo-novo\\Piophilidae\n",
      "Spostato 2.jpg in H:/Il mio Drive/Personal/University/Master's/Complex System Desygn/InsectaCam/datasets/testing/test-mondo-novo\\Piophilidae\n",
      "Spostato piophilidae_1.jpg in H:/Il mio Drive/Personal/University/Master's/Complex System Desygn/InsectaCam/datasets/testing/test-mondo-novo\\Piophilidae\n",
      "Spostato 50.jpg in H:/Il mio Drive/Personal/University/Master's/Complex System Desygn/InsectaCam/datasets/testing/test-mondo-novo\\Piophilidae\n",
      "Spostato 14.jpg in H:/Il mio Drive/Personal/University/Master's/Complex System Desygn/InsectaCam/datasets/testing/test-mondo-novo\\Piophilidae\n",
      "Spostato 92.jpg in H:/Il mio Drive/Personal/University/Master's/Complex System Desygn/InsectaCam/datasets/testing/test-mondo-novo\\Piophilidae\n",
      "Spostato 22.jpg in H:/Il mio Drive/Personal/University/Master's/Complex System Desygn/InsectaCam/datasets/testing/test-mondo-novo\\Piophilidae\n",
      "Spostato 9.jpg in H:/Il mio Drive/Personal/University/Master's/Complex System Desygn/InsectaCam/datasets/testing/test-mondo-novo\\Piophilidae\n",
      "Spostato 16.jpg in H:/Il mio Drive/Personal/University/Master's/Complex System Desygn/InsectaCam/datasets/testing/test-mondo-novo\\Piophilidae\n",
      "Spostato 6.jpg in H:/Il mio Drive/Personal/University/Master's/Complex System Desygn/InsectaCam/datasets/testing/test-mondo-novo\\Piophilidae\n",
      "Spostato 42.jpg in H:/Il mio Drive/Personal/University/Master's/Complex System Desygn/InsectaCam/datasets/testing/test-mondo-novo\\Piophilidae\n",
      "Spostato 61.jpg in H:/Il mio Drive/Personal/University/Master's/Complex System Desygn/InsectaCam/datasets/testing/test-mondo-novo\\Piophilidae\n",
      "Spostato 18.jpg in H:/Il mio Drive/Personal/University/Master's/Complex System Desygn/InsectaCam/datasets/testing/test-mondo-novo\\Piophilidae\n",
      "Spostato 36.png in H:/Il mio Drive/Personal/University/Master's/Complex System Desygn/InsectaCam/datasets/testing/test-mondo-novo\\Piophilidae\n",
      "Spostato 106.jpg in H:/Il mio Drive/Personal/University/Master's/Complex System Desygn/InsectaCam/datasets/testing/test-mondo-novo\\Piophilidae\n",
      "Spostato 101.png in H:/Il mio Drive/Personal/University/Master's/Complex System Desygn/InsectaCam/datasets/testing/test-mondo-novo\\Musca Domestica\n",
      "Spostato 34.png in H:/Il mio Drive/Personal/University/Master's/Complex System Desygn/InsectaCam/datasets/testing/test-mondo-novo\\Musca Domestica\n",
      "Spostato muscadomestica_1.jpg in H:/Il mio Drive/Personal/University/Master's/Complex System Desygn/InsectaCam/datasets/testing/test-mondo-novo\\Musca Domestica\n",
      "Spostato 46.png in H:/Il mio Drive/Personal/University/Master's/Complex System Desygn/InsectaCam/datasets/testing/test-mondo-novo\\Musca Domestica\n",
      "Spostato 58.png in H:/Il mio Drive/Personal/University/Master's/Complex System Desygn/InsectaCam/datasets/testing/test-mondo-novo\\Musca Domestica\n",
      "Spostato 59.png in H:/Il mio Drive/Personal/University/Master's/Complex System Desygn/InsectaCam/datasets/testing/test-mondo-novo\\Musca Domestica\n",
      "Spostato 40.png in H:/Il mio Drive/Personal/University/Master's/Complex System Desygn/InsectaCam/datasets/testing/test-mondo-novo\\Musca Domestica\n",
      "Spostato 29.png in H:/Il mio Drive/Personal/University/Master's/Complex System Desygn/InsectaCam/datasets/testing/test-mondo-novo\\Musca Domestica\n",
      "Spostato 27.png in H:/Il mio Drive/Personal/University/Master's/Complex System Desygn/InsectaCam/datasets/testing/test-mondo-novo\\Musca Domestica\n",
      "Spostato 9.png in H:/Il mio Drive/Personal/University/Master's/Complex System Desygn/InsectaCam/datasets/testing/test-mondo-novo\\Musca Domestica\n",
      "Spostato 68.png in H:/Il mio Drive/Personal/University/Master's/Complex System Desygn/InsectaCam/datasets/testing/test-mondo-novo\\Musca Domestica\n",
      "Spostato desktop.ini in H:/Il mio Drive/Personal/University/Master's/Complex System Desygn/InsectaCam/datasets/testing/test-mondo-novo\\Musca Domestica\n",
      "Spostato muscadomestica_4.jpg in H:/Il mio Drive/Personal/University/Master's/Complex System Desygn/InsectaCam/datasets/testing/test-mondo-novo\\Musca Domestica\n",
      "Spostato 30.png in H:/Il mio Drive/Personal/University/Master's/Complex System Desygn/InsectaCam/datasets/testing/test-mondo-novo\\Musca Domestica\n",
      "Spostato 106.png in H:/Il mio Drive/Personal/University/Master's/Complex System Desygn/InsectaCam/datasets/testing/test-mondo-novo\\Musca Domestica\n",
      "Spostato 75.png in H:/Il mio Drive/Personal/University/Master's/Complex System Desygn/InsectaCam/datasets/testing/test-mondo-novo\\Musca Domestica\n",
      "Spostato 32.png in H:/Il mio Drive/Personal/University/Master's/Complex System Desygn/InsectaCam/datasets/testing/test-mondo-novo\\Musca Domestica\n",
      "Spostato 84.png in H:/Il mio Drive/Personal/University/Master's/Complex System Desygn/InsectaCam/datasets/testing/test-mondo-novo\\Musca Domestica\n",
      "Spostato 4.png in H:/Il mio Drive/Personal/University/Master's/Complex System Desygn/InsectaCam/datasets/testing/test-mondo-novo\\Musca Domestica\n",
      "Spostato 71.png in H:/Il mio Drive/Personal/University/Master's/Complex System Desygn/InsectaCam/datasets/testing/test-mondo-novo\\Musca Domestica\n",
      "Spostato 19.png in H:/Il mio Drive/Personal/University/Master's/Complex System Desygn/InsectaCam/datasets/testing/test-mondo-novo\\Musca Domestica\n",
      "Spostato 87.png in H:/Il mio Drive/Personal/University/Master's/Complex System Desygn/InsectaCam/datasets/testing/test-mondo-novo\\Musca Domestica\n",
      "Spostato 95.png in H:/Il mio Drive/Personal/University/Master's/Complex System Desygn/InsectaCam/datasets/testing/test-mondo-novo\\Lucilia Sericata\n",
      "Spostato 12.png in H:/Il mio Drive/Personal/University/Master's/Complex System Desygn/InsectaCam/datasets/testing/test-mondo-novo\\Lucilia Sericata\n",
      "Spostato 85.png in H:/Il mio Drive/Personal/University/Master's/Complex System Desygn/InsectaCam/datasets/testing/test-mondo-novo\\Lucilia Sericata\n",
      "Spostato 118.png in H:/Il mio Drive/Personal/University/Master's/Complex System Desygn/InsectaCam/datasets/testing/test-mondo-novo\\Lucilia Sericata\n",
      "Spostato 98.png in H:/Il mio Drive/Personal/University/Master's/Complex System Desygn/InsectaCam/datasets/testing/test-mondo-novo\\Lucilia Sericata\n",
      "Spostato 75.png in H:/Il mio Drive/Personal/University/Master's/Complex System Desygn/InsectaCam/datasets/testing/test-mondo-novo\\Lucilia Sericata\n",
      "Spostato 111.png in H:/Il mio Drive/Personal/University/Master's/Complex System Desygn/InsectaCam/datasets/testing/test-mondo-novo\\Lucilia Sericata\n",
      "Spostato 3.png in H:/Il mio Drive/Personal/University/Master's/Complex System Desygn/InsectaCam/datasets/testing/test-mondo-novo\\Lucilia Sericata\n",
      "Spostato 13.png in H:/Il mio Drive/Personal/University/Master's/Complex System Desygn/InsectaCam/datasets/testing/test-mondo-novo\\Lucilia Sericata\n",
      "Spostato 69.png in H:/Il mio Drive/Personal/University/Master's/Complex System Desygn/InsectaCam/datasets/testing/test-mondo-novo\\Lucilia Sericata\n",
      "Spostato 119.png in H:/Il mio Drive/Personal/University/Master's/Complex System Desygn/InsectaCam/datasets/testing/test-mondo-novo\\Lucilia Sericata\n",
      "Spostato 103.png in H:/Il mio Drive/Personal/University/Master's/Complex System Desygn/InsectaCam/datasets/testing/test-mondo-novo\\Lucilia Sericata\n",
      "Spostato 26.png in H:/Il mio Drive/Personal/University/Master's/Complex System Desygn/InsectaCam/datasets/testing/test-mondo-novo\\Lucilia Sericata\n",
      "Spostato 101.png in H:/Il mio Drive/Personal/University/Master's/Complex System Desygn/InsectaCam/datasets/testing/test-mondo-novo\\Lucilia Sericata\n",
      "Spostato 99.png in H:/Il mio Drive/Personal/University/Master's/Complex System Desygn/InsectaCam/datasets/testing/test-mondo-novo\\Lucilia Sericata\n",
      "Spostato luciliasericata_1.jpg in H:/Il mio Drive/Personal/University/Master's/Complex System Desygn/InsectaCam/datasets/testing/test-mondo-novo\\Lucilia Sericata\n",
      "Spostato luciliasericata_5.jpg in H:/Il mio Drive/Personal/University/Master's/Complex System Desygn/InsectaCam/datasets/testing/test-mondo-novo\\Lucilia Sericata\n",
      "Spostato 66.png in H:/Il mio Drive/Personal/University/Master's/Complex System Desygn/InsectaCam/datasets/testing/test-mondo-novo\\Lucilia Sericata\n",
      "Spostato 48.png in H:/Il mio Drive/Personal/University/Master's/Complex System Desygn/InsectaCam/datasets/testing/test-mondo-novo\\Lucilia Sericata\n",
      "Spostato 19.png in H:/Il mio Drive/Personal/University/Master's/Complex System Desygn/InsectaCam/datasets/testing/test-mondo-novo\\Lucilia Sericata\n",
      "Spostato 115.png in H:/Il mio Drive/Personal/University/Master's/Complex System Desygn/InsectaCam/datasets/testing/test-mondo-novo\\Lucilia Sericata\n",
      "Spostato 16.png in H:/Il mio Drive/Personal/University/Master's/Complex System Desygn/InsectaCam/datasets/testing/test-mondo-novo\\Lucilia Sericata\n",
      "Spostato 83.png in H:/Il mio Drive/Personal/University/Master's/Complex System Desygn/InsectaCam/datasets/testing/test-mondo-novo\\Lucilia Sericata\n",
      "Spostato 109.png in H:/Il mio Drive/Personal/University/Master's/Complex System Desygn/InsectaCam/datasets/testing/test-mondo-novo\\Lucilia Sericata\n",
      "Spostato 88.png in H:/Il mio Drive/Personal/University/Master's/Complex System Desygn/InsectaCam/datasets/testing/test-mondo-novo\\Lucilia Sericata\n"
     ]
    }
   ],
   "source": [
    "# Percentuale di file da prelevare (20%)\n",
    "percentage = 20\n",
    "\n",
    "# Funzione per spostare randomicamente il 20% dei file da ogni sottocartella nella cartella di test\n",
    "def move_files_randomly(source_folder, destination_folder, percentage):\n",
    "    files = os.listdir(source_folder)\n",
    "    num_files_to_move = int(len(files) * (percentage / 100))\n",
    "\n",
    "    # Prende randomicamente il 20% dei file\n",
    "    files_to_move = random.sample(files, num_files_to_move)\n",
    "\n",
    "    for file_name in files_to_move:\n",
    "        source_path = os.path.join(source_folder, file_name)\n",
    "        destination_path = os.path.join(destination_folder, file_name)\n",
    "\n",
    "        # Sposta il file nella cartella di destinazione\n",
    "        shutil.move(source_path, destination_path)\n",
    "        print(f\"Spostato {file_name} in {destination_folder}\")\n",
    "\n",
    "# Itera attraverso le sottocartelle e sposta randomicamente il 20% dei file nella cartella di test\n",
    "for subfolder in ['Piophilidae', 'Musca Domestica', 'Lucilia Sericata']:\n",
    "    source_path = os.path.join(source_folder, subfolder)\n",
    "    destination_path = os.path.join(destination_folder, subfolder)\n",
    "    \n",
    "    # Assicurati che la cartella di destinazione esista\n",
    "    os.makedirs(destination_path, exist_ok=True)\n",
    "\n",
    "    move_files_randomly(source_path, destination_path, percentage)"
   ]
  }
 ],
 "metadata": {
  "kernelspec": {
   "display_name": "Python 3",
   "language": "python",
   "name": "python3"
  },
  "language_info": {
   "codemirror_mode": {
    "name": "ipython",
    "version": 3
   },
   "file_extension": ".py",
   "mimetype": "text/x-python",
   "name": "python",
   "nbconvert_exporter": "python",
   "pygments_lexer": "ipython3",
   "version": "3.10.11"
  }
 },
 "nbformat": 4,
 "nbformat_minor": 2
}
